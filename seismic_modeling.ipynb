{
 "cells": [
  {
   "cell_type": "markdown",
   "metadata": {},
   "source": [
    "# Seismic modeling example"
   ]
  },
  {
   "cell_type": "code",
   "execution_count": 1,
   "metadata": {},
   "outputs": [],
   "source": [
    "# Import module __future__ for python 2/3 compatibility\n",
    "from __future__ import absolute_import\n",
    "from __future__ import division\n",
    "from __future__ import print_function\n",
    "\n",
    "# Import numpy and matplotlib\n",
    "import numpy as np\n",
    "import matplotlib.pyplot as plt\n",
    "\n",
    "# Import functions needed for modeling\n",
    "from nessi.modeling.swm import modext, modbuo, modlame\n",
    "from nessi.modeling.swm import acqpos, pmlmod\n",
    "from nessi.modeling.swm import ricker, srcspread\n",
    "from nessi.modeling.swm import evolution"
   ]
  },
  {
   "cell_type": "markdown",
   "metadata": {},
   "source": [
    "## Input parameters"
   ]
  },
  {
   "cell_type": "code",
   "execution_count": 2,
   "metadata": {},
   "outputs": [],
   "source": [
    "# >> Run parameters\n",
    "jobname = 'test'\n",
    "tmax = 1.0\n",
    "dt = 0.0001\n",
    "\n",
    "# >> Grid dimensions and node spacing\n",
    "n1 = 51\n",
    "n2 = 301\n",
    "dh = 0.5\n",
    "\n",
    "# >> Boundaries parameters\n",
    "isurf = 1 # Free surface\n",
    "npml = 20  # width in points of the PML bands\n",
    "apml = 600.\n",
    "ppml = 8\n",
    "\n",
    "# >> Acquisition parameters\n",
    "nrec = 48\n",
    "drec = 2.0\n",
    "xrec0 = 28.\n",
    "zrec0 = dh\n",
    "dts = 0.0001\n",
    "\n",
    "# >> Source parameters\n",
    "xs = 10.0; zs = 0.5 # source position\n",
    "f0 = 15.0; t0 = 0.1 # peak frequency and t0\n",
    "sigma = -1.\n",
    "srctype = 2\n",
    "\n",
    "# >> Snapshots\n",
    "isnap = 0\n",
    "dtsnap = 0.001"
   ]
  },
  {
   "cell_type": "markdown",
   "metadata": {},
   "source": [
    "## Calculate complementary parameters"
   ]
  },
  {
   "cell_type": "code",
   "execution_count": 3,
   "metadata": {},
   "outputs": [],
   "source": [
    "nt = int(tmax/dt)+1\n",
    "nts = int(tmax/dts+1)\n",
    "ntsnap = int(tmax/dtsnap)+1"
   ]
  },
  {
   "cell_type": "markdown",
   "metadata": {},
   "source": [
    "## Generate homogeneous seismic velocity and density models\n",
    "\n",
    "For this example, homogeneous seismic wave velocity and density models are used. So, they are generated on the fly. However, these models can be loaded from text or binary files using functions `np.loadtxt()` or `np.fromfile()`. "
   ]
  },
  {
   "cell_type": "code",
   "execution_count": 4,
   "metadata": {},
   "outputs": [],
   "source": [
    "vp = np.zeros((n1, n2), dtype=np.float32)\n",
    "vs = np.zeros((n1, n2), dtype=np.float32)\n",
    "ro = np.zeros((n1, n2), dtype=np.float32)\n",
    "\n",
    "vp[:, :] = 600.  # m/s\n",
    "vs[:, :] = 200.  # m/s\n",
    "ro[:, :] = 1500. # kg/m3"
   ]
  },
  {
   "cell_type": "markdown",
   "metadata": {},
   "source": [
    "## Extent models\n",
    "\n",
    "Here, the seismic velocity and density models are extended by adding PML bands around."
   ]
  },
  {
   "cell_type": "code",
   "execution_count": 5,
   "metadata": {},
   "outputs": [],
   "source": [
    "vpe = modext(npml, vp)\n",
    "vse = modext(npml, vs)\n",
    "roe = modext(npml, ro)"
   ]
  },
  {
   "cell_type": "markdown",
   "metadata": {},
   "source": [
    "## Calculate buoyancy and Lame parameters\n",
    "\n",
    "The seismic modeling algorithm does not use directly Vp, Vs and density but the Lame's parameters and the buoyancy (inverse of the density)."
   ]
  },
  {
   "cell_type": "code",
   "execution_count": 6,
   "metadata": {},
   "outputs": [],
   "source": [
    "bux, buz = modbuo(roe)\n",
    "mu, lbd, lbdmu = modlame(vpe, vse, roe)"
   ]
  },
  {
   "cell_type": "markdown",
   "metadata": {},
   "source": [
    "## Calculate PMLs"
   ]
  },
  {
   "cell_type": "code",
   "execution_count": 7,
   "metadata": {},
   "outputs": [
    {
     "data": {
      "image/png": "[encoded data removed]",
      "text/plain": [
       "<Figure size 432x288 with 1 Axes>"
      ]
     },
     "metadata": {},
     "output_type": "display_data"
    }
   ],
   "source": [
    "pmlx0,pmlx1,pmlz0,pmlz1 = pmlmod(n1,n2,dh,isurf,npml,apml,ppml)\n",
    "plt.plot(pmlx0[51, :])\n",
    "plt.plot(pmlx1[51, :]);"
   ]
  },
  {
   "cell_type": "markdown",
   "metadata": {},
   "source": [
    "## Generate input acquisition\n",
    "\n",
    "As for seismic velocity models, the acquisition can be load from text using `np.loadtxt`. In this case, the acquisition file must have two columns: (1) receiver position in meter for the x coordinate, and (2) receiver depth in meter for the z coordinate. Each line corresponds to a receiver position but ordering does not matter. "
   ]
  },
  {
   "cell_type": "code",
   "execution_count": 8,
   "metadata": {},
   "outputs": [],
   "source": [
    "acq = np.zeros((nrec, 2), dtype=np.float32)\n",
    "for irec in range(0, nrec):\n",
    "    acq[irec,0] = xrec0+float(irec)*drec\n",
    "    acq[irec,1] = zrec0\n",
    "\n",
    "recpos = acqpos(n1, n2, npml, dh, acq)"
   ]
  },
  {
   "cell_type": "markdown",
   "metadata": {},
   "source": [
    "## Generate input source"
   ]
  },
  {
   "cell_type": "code",
   "execution_count": 9,
   "metadata": {},
   "outputs": [
    {
     "data": {
      "image/png": "[encoded data removed]",
      "text/plain": [
       "<Figure size 432x288 with 1 Axes>"
      ]
     },
     "metadata": {},
     "output_type": "display_data"
    }
   ],
   "source": [
    "# >> Source spread grid\n",
    "gsrc = srcspread(n1, n2, npml, xs, zs, dh, sigma)\n",
    "\n",
    "# >> Ricker source\n",
    "tsrc = ricker(nt, dt, f0, t0)\n",
    "\n",
    "# >> Ploting source\n",
    "t = np.linspace(0., float(nt-1)*dt, nt)\n",
    "plt.xlim(0., t[-1])\n",
    "plt.ylim(-0.5, 1.)\n",
    "plt.xlabel(r\"Time [s]\")\n",
    "plt.ylabel(r\"Amplitude\")\n",
    "plt.plot(t, tsrc, color='black');"
   ]
  },
  {
   "cell_type": "markdown",
   "metadata": {},
   "source": [
    "## Calculate stability condition"
   ]
  },
  {
   "cell_type": "code",
   "execution_count": 10,
   "metadata": {},
   "outputs": [
    {
     "name": "stdout",
     "output_type": "stream",
     "text": [
      "Courant::  0.12000000000000001\n"
     ]
    }
   ],
   "source": [
    "print(\"Courant:: \", dt*np.amax(vpe)/dh)"
   ]
  },
  {
   "cell_type": "markdown",
   "metadata": {},
   "source": [
    "## Time marching"
   ]
  },
  {
   "cell_type": "code",
   "execution_count": 11,
   "metadata": {},
   "outputs": [],
   "source": [
    "recx,recz,recp = evolution(n1,n2,dh,npml,nts,ntsnap,dt,srctype,tsrc,gsrc,recpos,isurf,isnap,bux,buz,lbd, lbdmu,mu,pmlx0,pmlx1,pmlz0,pmlz1)"
   ]
  },
  {
   "cell_type": "markdown",
   "metadata": {},
   "source": [
    "## Ploting outputs"
   ]
  },
  {
   "cell_type": "code",
   "execution_count": 12,
   "metadata": {},
   "outputs": [
    {
     "data": {
      "image/png": "[encoded data removed]",
      "text/plain": [
       "<Figure size 648x288 with 2 Axes>"
      ]
     },
     "metadata": {},
     "output_type": "display_data"
    }
   ],
   "source": [
    "fig = plt.figure(figsize=(9,4))\n",
    "plt.subplot(121)\n",
    "plt.title(r'Horizontal')\n",
    "plt.xlabel(r'Offset [m]')\n",
    "plt.ylabel(r'Time [s]')\n",
    "plt.imshow(recx, aspect='auto', cmap='gray', extent=[acq[0,0]-xs, acq[-1,0]-xs, tmax, 0.])\n",
    "plt.subplot(122)\n",
    "plt.title(r'Vertical')\n",
    "plt.xlabel(r'Offset [m]')\n",
    "plt.ylabel(r'Time [s]')\n",
    "plt.imshow(recz, aspect='auto', cmap='gray', extent=[acq[0,0]-xs, acq[-1,0]-xs, tmax, 0.]);"
   ]
  },
  {
   "cell_type": "code",
   "execution_count": null,
   "metadata": {},
   "outputs": [],
   "source": []
  }
 ],
 "metadata": {
  "kernelspec": {
   "display_name": "Python 3",
   "language": "python",
   "name": "python3"
  },
  "language_info": {
   "codemirror_mode": {
    "name": "ipython",
    "version": 3
   },
   "file_extension": ".py",
   "mimetype": "text/x-python",
   "name": "python",
   "nbconvert_exporter": "python",
   "pygments_lexer": "ipython3",
   "version": "3.6.5"
  }
 },
 "nbformat": 4,
 "nbformat_minor": 2
}
