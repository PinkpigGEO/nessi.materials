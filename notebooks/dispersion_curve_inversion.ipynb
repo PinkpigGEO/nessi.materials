{
 "cells": [
  {
   "cell_type": "markdown",
   "metadata": {},
   "source": [
    "# Dispersion curve inversion using GPDC and PSO\n",
    "\n",
    "In this tutorial, the interface with the Geopsy-gpdc modeling engine and the particle swarm optimization method are combined to build a dispersion curve inversion script.\n",
    "\n",
    "This script uses `numpy` and `matplotlib.pyplot` packages in addition of `nessi`."
   ]
  },
  {
   "cell_type": "code",
   "execution_count": 1,
   "metadata": {},
   "outputs": [],
   "source": [
    "# Import numpy and matplotlib\n",
    "import numpy as np\n",
    "import matplotlib.pyplot as plt\n",
    "\n",
    "# Import the Geopsy-gpdc interface and use aliase for convenience\n",
    "from nessi.modeling.interfaces import dispersion_curve_init as gpdc_init\n",
    "from nessi.modeling.interfaces import dispersion_curve_rayleigh as gpdc_rayleigh\n",
    "\n",
    "# Import Swarm class from NeSSI\n",
    "from nessi.globopt import Swarm"
   ]
  },
  {
   "cell_type": "markdown",
   "metadata": {},
   "source": [
    "## The observed dispersion curve\n",
    "\n",
    "The observed dispersion curve is generated using the gpdc interface. "
   ]
  },
  {
   "cell_type": "code",
   "execution_count": 2,
   "metadata": {},
   "outputs": [
    {
     "data": {
      "image/png": "[encoded data removed]",
      "text/plain": [
       "<Figure size 720x288 with 1 Axes>"
      ]
     },
     "metadata": {},
     "output_type": "display_data"
    }
   ],
   "source": [
    "# Define the model\n",
    "nLayers = 4\n",
    "h = np.zeros(nLayers, dtype=np.float64)\n",
    "vp = np.zeros(nLayers, dtype=np.float64)\n",
    "vs = np.zeros(nLayers, dtype=np.float64)\n",
    "rho = np.zeros(nLayers, dtype=np.float64)\n",
    "\n",
    "# Thickness\n",
    "h[0] = 5.0; h[1] = 5.0; h[2] = 5.0\n",
    "\n",
    "# S-wave and P-wave velocities\n",
    "vs[0] = 250.0; vs[1] = 500.0; vs[2]=750.; vs[3]= 1000.\n",
    "vp[:] = 2.*vs[:]\n",
    "\n",
    "# Density\n",
    "rho[:] = 2000.\n",
    "\n",
    "# Frequency sample\n",
    "nSamples = 51\n",
    "omega = np.linspace(10., 50., 51)\n",
    "omega *= 2.*np.pi\n",
    "\n",
    "# Mode and output type\n",
    "nModes = 1\n",
    "group = 0\n",
    "\n",
    "# Initialize output array\n",
    "slowness = np.zeros((nSamples*nModes), dtype=np.float64)\n",
    "\n",
    "# Initialize Geopsy-gpdc\n",
    "gpdc_init(0)\n",
    "\n",
    "# Calculate theoretical Rayleigh dispersion curve\n",
    "gpdc_rayleigh(nLayers, h, vp, vs, rho, nSamples, omega, nModes, slowness, group)\n",
    "\n",
    "# Plot observed dispersion curve\n",
    "fig = plt.figure(figsize=(10,4))\n",
    "plt.subplot(121)\n",
    "plt.xlabel(r'Frequency [Hz]')\n",
    "plt.ylabel(r'Slowness [s/m]')\n",
    "plt.title(r'Observed Rayleigh dispersion curve')\n",
    "plt.plot(omega/(2.*np.pi), slowness)\n",
    "plt.show();"
   ]
  },
  {
   "cell_type": "markdown",
   "metadata": {},
   "source": [
    "## Particle Swarm Optimization"
   ]
  },
  {
   "cell_type": "code",
   "execution_count": 3,
   "metadata": {},
   "outputs": [],
   "source": [
    "# Initialize the swarm class\n",
    "swarm = Swarm()\n",
    "\n",
    "# PSO parameters\n",
    "ngen = 100\n",
    "nindv = 20\n",
    "fit = np.zeros((ngen+1, 2), dtype=np.float32)\n",
    "\n",
    "# Get the search-space from file\n",
    "# Here, only thickness and S-wave velocities are searched\n",
    "swarm.init_pspace('data/gpdc_pso_pspace.ascii')\n",
    "\n",
    "# Initialize particles\n",
    "swarm.init_particles(nindv)"
   ]
  },
  {
   "cell_type": "code",
   "execution_count": 4,
   "metadata": {},
   "outputs": [],
   "source": [
    "# First evaluation\n",
    "hcalc = np.zeros(nLayers, dtype=np.float64)\n",
    "vpcalc = np.zeros(nLayers, dtype=np.float64)\n",
    "vscalc = np.zeros(nLayers, dtype=np.float64)\n",
    "slowcalc = np.zeros((nSamples*nModes), dtype=np.float64)\n",
    "for indv in range(0, nindv):\n",
    "    # From particle to model parameters\n",
    "    hcalc[:] = swarm.current[indv, :, 0]\n",
    "    vscalc[:] = swarm.current[indv, :, 1]\n",
    "    vpcalc[:] = 2.*vs[:]\n",
    "    # Calculate the corresponding dispersion curve\n",
    "    slowcalc[:] = 0.\n",
    "    gpdc_rayleigh(nLayers, hcalc, vpcalc, vscalc, rho, nSamples, omega, nModes, slowcalc, group)\n",
    "    # Calculate the misfit\n",
    "    L2 = 0.\n",
    "    for iw in range(0, len(slowcalc)):\n",
    "        L2 += (slowness[iw]-slowcalc[iw])**2\n",
    "    # Store the misfit value and the history of each particle\n",
    "    swarm.misfit[indv] = L2\n",
    "    swarm.history[indv, :, :] = swarm.current[indv, :, :]\n",
    "    \n",
    "# Get the minimum and the mean misfits of the swarm\n",
    "fit[0, 0] = np.amin(swarm.misfit)\n",
    "fit[0, 1] = np.mean(swarm.misfit)"
   ]
  },
  {
   "cell_type": "code",
   "execution_count": 5,
   "metadata": {},
   "outputs": [],
   "source": [
    "# Loop over generations\n",
    "for igen in range(0, ngen):\n",
    "    \n",
    "    # Update the particles using the constriction factor\n",
    "    # and the toroidal topology\n",
    "    swarm.update(control=1, topology='toroidal', ndim=4)\n",
    "    \n",
    "    # Evaluation\n",
    "    for indv in range(0, nindv):\n",
    "        \n",
    "        # From particle to model parameters\n",
    "        hcalc[:] = swarm.current[indv, :, 0]\n",
    "        vscalc[:] = swarm.current[indv, :, 1]\n",
    "        vpcalc[:] = 2.*vs[:]\n",
    "        \n",
    "        # Calculate the corresponding dispersion curve\n",
    "        slowcalc[:] = 0.\n",
    "        gpdc_rayleigh(nLayers, hcalc, vpcalc, vscalc, rho, nSamples, omega, nModes, slowcalc, group)\n",
    "        \n",
    "        # Calculate the misfit\n",
    "        L2 = 0.\n",
    "        for iw in range(0, len(slowcalc)):\n",
    "            L2 += (slowness[iw]-slowcalc[iw])**2\n",
    "            \n",
    "        # If misfit is lower, store the misfit value of each particle\n",
    "        # and particle history\n",
    "        if L2 < swarm.misfit[indv]:\n",
    "            swarm.misfit[indv] = L2\n",
    "            swarm.history[indv, :, :] = swarm.current[indv, :, :]\n",
    "        \n",
    "    # Get the minimum and the mean misfits of the swarm\n",
    "    fit[igen, 0] = np.amin(swarm.misfit)\n",
    "    fit[igen, 1] = np.mean(swarm.misfit)"
   ]
  },
  {
   "cell_type": "code",
   "execution_count": 8,
   "metadata": {},
   "outputs": [
    {
     "data": {
      "image/png": "[encoded data removed]",
      "text/plain": [
       "<Figure size 720x288 with 2 Axes>"
      ]
     },
     "metadata": {},
     "output_type": "display_data"
    }
   ],
   "source": [
    "# Plot the best dispersion curves from particles history\n",
    "fig1 = plt.figure(figsize=(10,4))\n",
    "plt.subplot(121)\n",
    "plt.xlabel(r'Frequency [Hz]')\n",
    "plt.ylabel(r'Slowness [s/m]')\n",
    "plt.title(r'Calculated Rayleigh dispersion curve')\n",
    "for indv in range(0, nindv):\n",
    "    # From particle history to model parameters\n",
    "    hcalc[:] = swarm.current[indv, :, 0]\n",
    "    vscalc[:] = swarm.current[indv, :, 1]\n",
    "    vpcalc[:] = 2.*vs[:]\n",
    "        \n",
    "    # Calculate the corresponding dispersion curve\n",
    "    slowcalc[:] = 0.\n",
    "    gpdc_rayleigh(nLayers, hcalc, vpcalc, vscalc, rho, nSamples, omega, nModes, slowcalc, group)\n",
    "    plt.plot(omega/(2.*np.pi), slowcalc)\n",
    "    \n",
    "# Plot the observed dispersion curve\n",
    "plt.plot(omega/(2.*np.pi), slowness, linestyle='--', color='black')\n",
    "\n",
    "plt.subplot(122)\n",
    "plt.xlabel(r'Generation')\n",
    "plt.ylabel(r'Normalized misfit value')\n",
    "plt.title(r'Misfit evolution through generations')\n",
    "plt.plot(fit[:,0]/np.amax(fit), color='red')\n",
    "plt.plot(fit[:,1]/np.amax(fit), color='black')\n",
    "plt.show();"
   ]
  },
  {
   "cell_type": "code",
   "execution_count": 7,
   "metadata": {},
   "outputs": [
    {
     "name": "stdout",
     "output_type": "stream",
     "text": [
      "[[   4.9232965  249.41708  ]\n",
      " [   4.603553   477.5197   ]\n",
      " [   6.5383964  750.96954  ]\n",
      " [   0.        1009.3545   ]]\n"
     ]
    }
   ],
   "source": [
    "# Get the best particle of the swarm\n",
    "ibest = np.argmin(swarm.misfit)\n",
    "print(swarm.history[ibest, :, :])"
   ]
  },
  {
   "cell_type": "code",
   "execution_count": null,
   "metadata": {},
   "outputs": [],
   "source": []
  }
 ],
 "metadata": {
  "kernelspec": {
   "display_name": "Python 3",
   "language": "python",
   "name": "python3"
  },
  "language_info": {
   "codemirror_mode": {
    "name": "ipython",
    "version": 3
   },
   "file_extension": ".py",
   "mimetype": "text/x-python",
   "name": "python",
   "nbconvert_exporter": "python",
   "pygments_lexer": "ipython3",
   "version": "3.6.5"
  }
 },
 "nbformat": 4,
 "nbformat_minor": 2
}
